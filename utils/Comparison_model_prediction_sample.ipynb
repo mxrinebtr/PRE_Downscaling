{
 "cells": [
  {
   "cell_type": "code",
   "execution_count": 1,
   "id": "06669358-4247-46a4-87d4-a5727e54461b",
   "metadata": {},
   "outputs": [],
   "source": [
    "import torch\n",
    "import torch.nn as nn\n",
    "import torch.optim as optim\n",
    "import torch\n",
    "import torch.nn.functional as F\n",
    "import torch.distributions.gamma\n",
    "import os\n",
    "import xarray as xr\n",
    "import matplotlib.pyplot as plt\n",
    "import numpy as np\n",
    "from scipy.stats import genextreme"
   ]
  },
  {
   "cell_type": "code",
   "execution_count": 2,
   "id": "4b3b6583-19d1-42ef-bcd0-1da1983a3b0c",
   "metadata": {},
   "outputs": [],
   "source": [
    "class LinearNetwork(nn.Module):\n",
    "    def __init__(self):\n",
    "        super(LinearNetwork,self).__init__()\n",
    "        self.fc1=nn.Linear(2,10)\n",
    "        self.fc2=nn.Linear(10,312)\n",
    "\n",
    "    def forward(self,x):\n",
    "        x=self.fc1(x)\n",
    "        x=self.fc2(x)\n",
    "        return x\n",
    "\n",
    "model=LinearNetwork()"
   ]
  },
  {
   "cell_type": "code",
   "execution_count": 3,
   "id": "bf3b181a-cb96-4813-b254-b18eaa2372b2",
   "metadata": {},
   "outputs": [],
   "source": [
    "class ANN(nn.Module):\n",
    "    def __init__(self):\n",
    "        super(ANN,self).__init__()\n",
    "        self.fc1=nn.Linear(2,10)\n",
    "        self.fc2=nn.Linear(10,100)\n",
    "        self.fc3=nn.Linear(100,312)\n",
    "\n",
    "    def forward(self,x):\n",
    "        x=self.fc1(x)\n",
    "        x=torch.relu(x)\n",
    "        x=self.fc2(x)\n",
    "        x=torch.relu(x)\n",
    "        x=self.fc3(x)\n",
    "        return x\n",
    "\n",
    "model2=ANN()"
   ]
  },
  {
   "cell_type": "code",
   "execution_count": 32,
   "id": "2c0e3388-6d1b-4dd0-8fa3-fd16d594d72c",
   "metadata": {},
   "outputs": [],
   "source": [
    "class ConvNet2(nn.Module):\n",
    "    def __init__(self):\n",
    "        super(ConvNet2, self).__init__()\n",
    "        self.conv1 = nn.Conv2d(2, 1, kernel_size=2,padding=1)\n",
    "        self.conv2 = nn.Conv2d(1, 312, kernel_size=2)\n",
    "        self.bn1 = nn.BatchNorm2d(1)\n",
    "        self.bn2 = nn.BatchNorm2d(312)\n",
    "\n",
    "    def forward(self, x):\n",
    "        x = self.conv1(x)\n",
    "        x = self.bn1(x)\n",
    "        x = self.conv2(x)\n",
    "        x = self.bn2(x)\n",
    "        return x\n",
    "\n",
    "modelCNN=ConvNet2()"
   ]
  },
  {
   "cell_type": "code",
   "execution_count": 33,
   "id": "0dd6d7c5-0ad9-4398-ac3a-dbfc696a1616",
   "metadata": {},
   "outputs": [],
   "source": [
    "##Finalement on entraîne avec les maximas pas les params de GEV "
   ]
  },
  {
   "cell_type": "code",
   "execution_count": 34,
   "id": "c291306a-c050-44b4-9187-718056f426ae",
   "metadata": {},
   "outputs": [],
   "source": [
    "class CustomCRPSLoss(nn.Module):\n",
    "    def __init__(self):\n",
    "        super(CustomCRPSLoss, self).__init__()\n",
    "\n",
    "    def forward(self, y_pred, y_true):\n",
    "        term_one = torch.mean(torch.abs(y_pred - y_true), dim=-1)\n",
    "        term_two = torch.mean(torch.abs(\n",
    "        torch.unsqueeze(y_pred, -1) - torch.unsqueeze(y_pred, -2)), dim=(-2, -1))\n",
    "        half = torch.tensor(-0.5, dtype=term_two.dtype)\n",
    "        loss = term_one + half * term_two\n",
    "        loss = torch.mean(loss)\n",
    "        return loss"
   ]
  },
  {
   "cell_type": "code",
   "execution_count": 35,
   "id": "6695b8b9-acb1-4862-8409-99f1b4dbe653",
   "metadata": {},
   "outputs": [],
   "source": [
    "device = torch.device('cuda' if torch.cuda.is_available() else 'cpu')\n",
    "model2 = model2.to(device)"
   ]
  },
  {
   "cell_type": "code",
   "execution_count": 36,
   "id": "2fd68dd6-49ee-4910-9b84-2eadc1901a98",
   "metadata": {},
   "outputs": [],
   "source": [
    "path = \"/work/FAC/FGSE/IDYST/tbeucler/downscaling/mberthier/repos/Downscaling_CM/data\"\n",
    "os.chdir(path)\n",
    "train_data=xr.open_dataset('train_data_stationnary.nc')"
   ]
  },
  {
   "cell_type": "code",
   "execution_count": 37,
   "id": "dde9a55f-dd62-4a8d-971b-41884ca0891f",
   "metadata": {},
   "outputs": [
    {
     "name": "stdout",
     "output_type": "stream",
     "text": [
      "Nombre de semaines : 312\n"
     ]
    }
   ],
   "source": [
    "num_weeks = len(train_data['week'])\n",
    "print(\"Nombre de semaines :\", num_weeks)"
   ]
  },
  {
   "cell_type": "code",
   "execution_count": 38,
   "id": "4a18a04c-09c3-44bc-8b8b-aaf2905b839b",
   "metadata": {},
   "outputs": [
    {
     "data": {
      "text/plain": [
       "torch.Size([101, 176, 312])"
      ]
     },
     "execution_count": 38,
     "metadata": {},
     "output_type": "execute_result"
    }
   ],
   "source": [
    "out_cnn.size()"
   ]
  },
  {
   "cell_type": "code",
   "execution_count": 39,
   "id": "1b3b70c4-37cc-4c70-9b2c-de972d212060",
   "metadata": {},
   "outputs": [
    {
     "name": "stdout",
     "output_type": "stream",
     "text": [
      "Epoch [10/10], Loss: 0.0320\n"
     ]
    },
    {
     "data": {
      "image/png": "[encoded data removed]",
      "text/plain": [
       "<Figure size 640x480 with 1 Axes>"
      ]
     },
     "metadata": {},
     "output_type": "display_data"
    }
   ],
   "source": [
    "num_epoch=10\n",
    "train_len=num_weeks\n",
    "nb_lon= len(train_data['rlon'])\n",
    "nb_lat= len(train_data['rlat'])\n",
    "\n",
    "rlat = torch.tensor(train_data['rlat'].values)\n",
    "rlon=torch.tensor(train_data['rlon'].values)\n",
    "grid_lat, grid_lon = torch.meshgrid(rlat, rlon)\n",
    "input = torch.stack((grid_lat, grid_lon), dim=-1)\n",
    "batch_output=training_set_output(train_data)\n",
    "optimizer1= torch.optim.Adam(model.parameters(), lr=0.01)\n",
    "optimizer2= torch.optim.Adam(model2.parameters(), lr=0.01)\n",
    "optimizer3=torch.optim.Adam(modelCNN.parameters(),lr=0.01)\n",
    "loss_crps=CustomCRPSLoss()\n",
    "loss_list1=[]\n",
    "loss_list2=[]\n",
    "loss_list3=[]\n",
    "\n",
    "for epoch in range(num_epoch):\n",
    "         #print('EPOCH : ',epoch)\n",
    "        #print(list(model.parameters()))\n",
    "        outputs_lnn=model(input)\n",
    "        outputs_ann=model2(input)\n",
    "\n",
    "        ##CNN : \n",
    "        input_prepared=input.unsqueeze(0)\n",
    "        input_prepared=input_prepared.permute(0, 3, 1, 2)\n",
    "        outputs_cnn=modelCNN(input_prepared)\n",
    "        ##CNN Architecture (batch_size, channels, height, width)\n",
    "\n",
    "        ##batch_output est de taille (height,width,channels)\n",
    "\n",
    "        loss1=loss_crps(outputs_lnn,batch_output)\n",
    "        loss1=torch.mean(loss1)\n",
    "        #print(loss1)\n",
    "    \n",
    "        loss_list1.append(torch.detach(loss1).numpy())\n",
    "        optimizer1.zero_grad()\n",
    "        loss1.backward()\n",
    "        optimizer1.step()\n",
    "\n",
    "        loss2=loss_crps(outputs_ann,batch_output)\n",
    "        loss_list2.append(torch.detach(loss2).numpy())\n",
    "        optimizer2.zero_grad()\n",
    "        loss2.backward()\n",
    "        optimizer2.step()\n",
    "\n",
    "\n",
    "        out_cnn = outputs_cnn.permute(2, 3, 1, 0)\n",
    "        out_cnn = torch.flatten(out_cnn,start_dim=2)\n",
    "    \n",
    "        loss3=loss_crps(out_cnn,batch_output)\n",
    "        loss_list3.append(torch.detach(loss3).numpy())\n",
    "        optimizer3.zero_grad()\n",
    "        loss3.backward()\n",
    "        optimizer3.step()\n",
    "    \n",
    "        if (epoch+1) % 10 == 0:\n",
    "            print(f'Epoch [{epoch+1}/{num_epoch}], Loss: {loss1.item():.4f}')\n",
    "plt.plot(loss_list1)\n",
    "#plt.plot(loss_list2,add=True)\n",
    "plt.show()"
   ]
  },
  {
   "cell_type": "code",
   "execution_count": 40,
   "id": "9f26c99a-e680-4286-9ab9-ec60eae20663",
   "metadata": {},
   "outputs": [
    {
     "data": {
      "image/png": "[encoded data removed]",
      "text/plain": [
       "<Figure size 640x480 with 1 Axes>"
      ]
     },
     "metadata": {},
     "output_type": "display_data"
    }
   ],
   "source": [
    "import matplotlib.pyplot as plt\n",
    "\n",
    "# Tracer les données\n",
    "plt.plot(loss_list1, label='Linear Model')\n",
    "plt.plot(loss_list2, label='ANN with 2 hiddens layers')\n",
    "plt.plot(loss_list3, label='CNN')\n",
    "\n",
    "# Titres et légendes\n",
    "plt.title('Loss function : CRPS - Model comparison')\n",
    "plt.xlabel('Epoch')\n",
    "plt.ylabel('Loss')\n",
    "plt.legend()\n",
    "\n",
    "# Afficher le graphique\n",
    "plt.show()\n"
   ]
  },
  {
   "cell_type": "code",
   "execution_count": null,
   "id": "13d7b3b6-8041-4cee-8906-ffff77ba1d21",
   "metadata": {},
   "outputs": [],
   "source": [
    "loss_list"
   ]
  },
  {
   "cell_type": "code",
   "execution_count": 56,
   "id": "23449e51-2245-42f4-b5fd-2b4fb2821b0e",
   "metadata": {},
   "outputs": [],
   "source": [
    "input_test=torch.tensor([1.0,1.0])\n",
    "output_test=model2(input_test)"
   ]
  },
  {
   "cell_type": "code",
   "execution_count": 57,
   "id": "e998ee2d-8b98-4ecd-92aa-005ff1374151",
   "metadata": {},
   "outputs": [
    {
     "data": {
      "text/plain": [
       "tensor([nan, nan, nan], grad_fn=<AddBackward0>)"
      ]
     },
     "execution_count": 57,
     "metadata": {},
     "output_type": "execute_result"
    }
   ],
   "source": [
    "output_test"
   ]
  },
  {
   "cell_type": "code",
   "execution_count": null,
   "id": "e96972d5-f968-4e7c-8f7e-eb00db48a782",
   "metadata": {},
   "outputs": [],
   "source": [
    "##vérifier ! "
   ]
  }
 ],
 "metadata": {
  "kernelspec": {
   "display_name": "Python 3 (ipykernel)",
   "language": "python",
   "name": "python3"
  },
  "language_info": {
   "codemirror_mode": {
    "name": "ipython",
    "version": 3
   },
   "file_extension": ".py",
   "mimetype": "text/x-python",
   "name": "python",
   "nbconvert_exporter": "python",
   "pygments_lexer": "ipython3",
   "version": "3.9.13"
  }
 },
 "nbformat": 4,
 "nbformat_minor": 5
}
