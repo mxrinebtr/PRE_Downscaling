{
 "cells": [
  {
   "cell_type": "code",
   "execution_count": null,
   "id": "f0885465-ddc3-40d2-86f4-17f162bed473",
   "metadata": {},
   "outputs": [],
   "source": [
    "##CNN Architecture to go from a [1,100,200,4] to [1,50,100,16] 4 being the features, the variables"
   ]
  },
  {
   "cell_type": "code",
   "execution_count": 1,
   "id": "d967a3fe-d4a1-42b6-b344-0a03b8410515",
   "metadata": {},
   "outputs": [],
   "source": [
    "import torch\n",
    "import torch.nn as nn\n",
    "import torch.optim as optim\n",
    "import numpy as np"
   ]
  },
  {
   "cell_type": "code",
   "execution_count": 2,
   "id": "b761e9f5-5c8b-4f41-a169-a03f469ad93f",
   "metadata": {},
   "outputs": [],
   "source": [
    "class EmbConv(nn.Module):\n",
    "    def __init__(self):\n",
    "        super(EmbConv,self).__init__()\n",
    "        self.conv1=nn.Conv2d(4,16,kernel_size=2,stride=2)\n",
    "\n",
    "    def forward(self,x):\n",
    "        x=self.conv1(x)\n",
    "        return x \n",
    "##Maintenant on a [batch_size,16,height/2,width/2] , peut-être"
   ]
  },
  {
   "cell_type": "code",
   "execution_count": 3,
   "id": "4aa1cfad-a547-4252-87a3-bfc47f3d8923",
   "metadata": {},
   "outputs": [],
   "source": [
    "input = torch.randn(20, 4, 50, 100)"
   ]
  },
  {
   "cell_type": "code",
   "execution_count": 4,
   "id": "3d53debf-df8a-4975-a37e-4e81b400beea",
   "metadata": {},
   "outputs": [],
   "source": [
    "model=EmbConv()"
   ]
  },
  {
   "cell_type": "code",
   "execution_count": 5,
   "id": "2fc97f79-c137-443f-b9ac-18bb389a6772",
   "metadata": {},
   "outputs": [],
   "source": [
    "x=input"
   ]
  },
  {
   "cell_type": "code",
   "execution_count": 6,
   "id": "037a6cfa-82ce-4277-99af-7b85d7dcd0a5",
   "metadata": {},
   "outputs": [],
   "source": [
    "out=model(input)"
   ]
  },
  {
   "cell_type": "code",
   "execution_count": 8,
   "id": "e8f4372b-69a3-4d65-8f1c-23522b411438",
   "metadata": {},
   "outputs": [
    {
     "data": {
      "text/plain": [
       "torch.Size([20, 16, 25, 50])"
      ]
     },
     "execution_count": 8,
     "metadata": {},
     "output_type": "execute_result"
    }
   ],
   "source": [
    "out.size()"
   ]
  },
  {
   "cell_type": "code",
   "execution_count": 7,
   "id": "1955f4d0-001b-448e-af04-cc8296e492f4",
   "metadata": {},
   "outputs": [
    {
     "data": {
      "text/plain": [
       "torch.Size([20, 4, 50, 100])"
      ]
     },
     "execution_count": 7,
     "metadata": {},
     "output_type": "execute_result"
    }
   ],
   "source": [
    "x.size()"
   ]
  },
  {
   "cell_type": "code",
   "execution_count": 8,
   "id": "d631cdc7-3586-4c24-8643-45cbcedc24e7",
   "metadata": {},
   "outputs": [
    {
     "data": {
      "text/plain": [
       "50"
      ]
     },
     "execution_count": 8,
     "metadata": {},
     "output_type": "execute_result"
    }
   ],
   "source": [
    "x.shape[2]"
   ]
  },
  {
   "cell_type": "code",
   "execution_count": null,
   "id": "0d96fe15-069c-49a6-8a7e-0c7741cdd0b7",
   "metadata": {},
   "outputs": [],
   "source": []
  },
  {
   "cell_type": "code",
   "execution_count": 9,
   "id": "3b5904b3-1836-45db-8a15-121701707f22",
   "metadata": {},
   "outputs": [],
   "source": [
    "##Really simple positional encoding :"
   ]
  },
  {
   "cell_type": "code",
   "execution_count": 10,
   "id": "5901d4d5-3320-42f4-b2cc-0fd8479c9349",
   "metadata": {},
   "outputs": [
    {
     "data": {
      "text/plain": [
       "array([[   1,    2,    3, ...,   98,   99,  100],\n",
       "       [ 101,  102,  103, ...,  198,  199,  200],\n",
       "       [ 201,  202,  203, ...,  298,  299,  300],\n",
       "       ...,\n",
       "       [4701, 4702, 4703, ..., 4798, 4799, 4800],\n",
       "       [4801, 4802, 4803, ..., 4898, 4899, 4900],\n",
       "       [4901, 4902, 4903, ..., 4998, 4999, 5000]])"
      ]
     },
     "execution_count": 10,
     "metadata": {},
     "output_type": "execute_result"
    }
   ],
   "source": [
    "h,w=x.shape[2],x.shape[3]\n",
    "array = np.arange(1, h*w + 1).reshape(h, w)\n",
    "array"
   ]
  },
  {
   "cell_type": "code",
   "execution_count": 15,
   "id": "11fbe523-5445-4575-ad38-a14ca024904e",
   "metadata": {},
   "outputs": [
    {
     "data": {
      "text/plain": [
       "array([[[   1,    2,    3, ...,   98,   99,  100],\n",
       "        [ 101,  102,  103, ...,  198,  199,  200],\n",
       "        [ 201,  202,  203, ...,  298,  299,  300],\n",
       "        ...,\n",
       "        [4701, 4702, 4703, ..., 4798, 4799, 4800],\n",
       "        [4801, 4802, 4803, ..., 4898, 4899, 4900],\n",
       "        [4901, 4902, 4903, ..., 4998, 4999, 5000]],\n",
       "\n",
       "       [[   1,    2,    3, ...,   98,   99,  100],\n",
       "        [ 101,  102,  103, ...,  198,  199,  200],\n",
       "        [ 201,  202,  203, ...,  298,  299,  300],\n",
       "        ...,\n",
       "        [4701, 4702, 4703, ..., 4798, 4799, 4800],\n",
       "        [4801, 4802, 4803, ..., 4898, 4899, 4900],\n",
       "        [4901, 4902, 4903, ..., 4998, 4999, 5000]],\n",
       "\n",
       "       [[   1,    2,    3, ...,   98,   99,  100],\n",
       "        [ 101,  102,  103, ...,  198,  199,  200],\n",
       "        [ 201,  202,  203, ...,  298,  299,  300],\n",
       "        ...,\n",
       "        [4701, 4702, 4703, ..., 4798, 4799, 4800],\n",
       "        [4801, 4802, 4803, ..., 4898, 4899, 4900],\n",
       "        [4901, 4902, 4903, ..., 4998, 4999, 5000]]])"
      ]
     },
     "execution_count": 15,
     "metadata": {},
     "output_type": "execute_result"
    }
   ],
   "source": [
    "# Votre tableau position de taille [h, w]\n",
    "position = np.arange(1, h * w + 1).reshape(h, w)\n",
    "\n",
    "N=3\n",
    "# Répétition du tableau position N fois sur l'axe 0\n",
    "repeated_position = np.tile(position, (N, 1, 1))\n",
    "repeated_position"
   ]
  },
  {
   "cell_type": "code",
   "execution_count": 16,
   "id": "7dea1697-3f60-44b3-a898-320eb4315bc9",
   "metadata": {},
   "outputs": [],
   "source": [
    "tensor = torch.from_numpy(repeated_position)"
   ]
  },
  {
   "cell_type": "code",
   "execution_count": 17,
   "id": "fb76ede4-7365-44e0-a073-29e1b3817724",
   "metadata": {},
   "outputs": [
    {
     "data": {
      "text/plain": [
       "torch.Size([3, 50, 100])"
      ]
     },
     "execution_count": 17,
     "metadata": {},
     "output_type": "execute_result"
    }
   ],
   "source": [
    "tensor.size()"
   ]
  },
  {
   "cell_type": "code",
   "execution_count": null,
   "id": "90b256bb-0b15-426e-b944-4903d2485ab5",
   "metadata": {},
   "outputs": [],
   "source": []
  },
  {
   "cell_type": "code",
   "execution_count": 45,
   "id": "f0466c94-c24e-4ff3-9282-a128b4b11ed4",
   "metadata": {},
   "outputs": [
    {
     "data": {
      "text/plain": [
       "(50, 100)"
      ]
     },
     "execution_count": 45,
     "metadata": {},
     "output_type": "execute_result"
    }
   ],
   "source": [
    "np.shape(y)"
   ]
  },
  {
   "cell_type": "code",
   "execution_count": 28,
   "id": "8ddaed17-592b-4e1f-99e1-e8864ccc8711",
   "metadata": {},
   "outputs": [],
   "source": [
    "class Embedd(nn.Module):\n",
    "    def __init__(self,embed_size,max_length):\n",
    "        super(Embedd,self).__init__()\n",
    "        self.embed_size=embed_size\n",
    "        self.position_embedding=nn.Embedding(max_length,embed_size)\n",
    "\n",
    "    def forward(self, x):\n",
    "        h,w=x.shape[2],x.shape[3]\n",
    "        positions = torch.from_numpy(np.arange(1, h*w + 1).reshape(h, w))\n",
    "        out=self.position_embedding(positions)\n",
    "        return out"
   ]
  },
  {
   "cell_type": "code",
   "execution_count": 29,
   "id": "fa2a1dee-d086-48b6-abce-257302eea272",
   "metadata": {},
   "outputs": [],
   "source": [
    "model_bis=Embedd(512,10000)"
   ]
  },
  {
   "cell_type": "code",
   "execution_count": 30,
   "id": "09cbabed-8d64-4ebb-8e8c-c32ea220dae9",
   "metadata": {},
   "outputs": [],
   "source": [
    "out=model_bis(x)"
   ]
  },
  {
   "cell_type": "code",
   "execution_count": 32,
   "id": "0a5b6271-b7a2-415c-92f6-773a6604cce2",
   "metadata": {},
   "outputs": [
    {
     "data": {
      "text/plain": [
       "torch.Size([50, 100, 512])"
      ]
     },
     "execution_count": 32,
     "metadata": {},
     "output_type": "execute_result"
    }
   ],
   "source": [
    "out.size()"
   ]
  },
  {
   "cell_type": "code",
   "execution_count": null,
   "id": "b6085c13-707b-48bd-9df1-96358da8de25",
   "metadata": {},
   "outputs": [],
   "source": []
  },
  {
   "cell_type": "code",
   "execution_count": null,
   "id": "67b79084-b1e9-4f05-8683-cc683a4dea9a",
   "metadata": {},
   "outputs": [],
   "source": []
  },
  {
   "cell_type": "code",
   "execution_count": 27,
   "id": "df7710e8-d4b1-4117-8169-ab62b830e55c",
   "metadata": {},
   "outputs": [],
   "source": []
  },
  {
   "cell_type": "code",
   "execution_count": null,
   "id": "3f3c15c9-5e68-4c83-be56-d9e545acdb58",
   "metadata": {},
   "outputs": [],
   "source": []
  },
  {
   "cell_type": "code",
   "execution_count": null,
   "id": "b6a7017e-f465-417f-9d9e-cba814950633",
   "metadata": {},
   "outputs": [],
   "source": []
  },
  {
   "cell_type": "code",
   "execution_count": null,
   "id": "0e3bef64-81f9-46e9-babf-8b24d5c4f8e4",
   "metadata": {},
   "outputs": [],
   "source": []
  },
  {
   "cell_type": "code",
   "execution_count": null,
   "id": "b803acbf-16ca-4f29-9f91-dab8da708119",
   "metadata": {},
   "outputs": [],
   "source": []
  },
  {
   "cell_type": "code",
   "execution_count": null,
   "id": "bd348ef0-285f-4867-91d1-791b14634bba",
   "metadata": {},
   "outputs": [],
   "source": []
  },
  {
   "cell_type": "code",
   "execution_count": null,
   "id": "3490a18a-4a29-4a5f-b8ca-2ef19cac3236",
   "metadata": {},
   "outputs": [],
   "source": []
  },
  {
   "cell_type": "code",
   "execution_count": null,
   "id": "6f1e1834-97e2-4f22-b5bd-48a79fa7ea75",
   "metadata": {},
   "outputs": [],
   "source": []
  },
  {
   "cell_type": "code",
   "execution_count": null,
   "id": "e9c8a82c-62d2-457e-bbf4-08e3761db071",
   "metadata": {},
   "outputs": [],
   "source": []
  },
  {
   "cell_type": "code",
   "execution_count": 24,
   "id": "79c4048b-bab2-4b12-9b86-59750a4c46e6",
   "metadata": {},
   "outputs": [
    {
     "name": "stdout",
     "output_type": "stream",
     "text": [
      "None\n"
     ]
    }
   ],
   "source": []
  },
  {
   "cell_type": "code",
   "execution_count": null,
   "id": "e846e128-f888-48df-ae69-8ed62429a3b0",
   "metadata": {},
   "outputs": [],
   "source": []
  },
  {
   "cell_type": "code",
   "execution_count": null,
   "id": "70aa536f-34cd-4cb6-b9a0-52113b833130",
   "metadata": {},
   "outputs": [],
   "source": []
  },
  {
   "cell_type": "code",
   "execution_count": null,
   "id": "c5d06d22-dd5d-437a-a6b0-c89cacc51178",
   "metadata": {},
   "outputs": [],
   "source": []
  },
  {
   "cell_type": "code",
   "execution_count": null,
   "id": "4ea4c9d5-dcf5-416c-9992-ff7e6180de68",
   "metadata": {},
   "outputs": [],
   "source": []
  },
  {
   "cell_type": "code",
   "execution_count": null,
   "id": "b6e9024d-8687-4c6e-a193-16c61e567ed7",
   "metadata": {},
   "outputs": [],
   "source": []
  },
  {
   "cell_type": "code",
   "execution_count": null,
   "id": "2e1b56fd-ea23-40c7-b4ca-9dd960cead7e",
   "metadata": {},
   "outputs": [],
   "source": []
  },
  {
   "cell_type": "code",
   "execution_count": null,
   "id": "43d64476-148f-4c6f-9b77-2deef069399e",
   "metadata": {},
   "outputs": [],
   "source": []
  },
  {
   "cell_type": "code",
   "execution_count": null,
   "id": "cd8a52ec-ed09-4a26-aa3a-054c87f8d2b9",
   "metadata": {},
   "outputs": [],
   "source": []
  },
  {
   "cell_type": "code",
   "execution_count": null,
   "id": "1a045969-3164-48b1-a16a-87035878e798",
   "metadata": {},
   "outputs": [],
   "source": []
  }
 ],
 "metadata": {
  "kernelspec": {
   "display_name": "Python 3 (ipykernel)",
   "language": "python",
   "name": "python3"
  },
  "language_info": {
   "codemirror_mode": {
    "name": "ipython",
    "version": 3
   },
   "file_extension": ".py",
   "mimetype": "text/x-python",
   "name": "python",
   "nbconvert_exporter": "python",
   "pygments_lexer": "ipython3",
   "version": "3.9.13"
  }
 },
 "nbformat": 4,
 "nbformat_minor": 5
}
